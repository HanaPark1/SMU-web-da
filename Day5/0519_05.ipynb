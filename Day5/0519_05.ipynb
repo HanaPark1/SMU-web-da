{
 "cells": [
  {
   "cell_type": "code",
   "execution_count": null,
   "id": "67d64c93",
   "metadata": {
    "vscode": {
     "languageId": "plaintext"
    }
   },
   "outputs": [],
   "source": [
    "df['학교'].unique() # 중복을 제거 후 학교 이름 출력\n",
    "df['학교'].nunique() # 중복을 제거 후 학교 이름 개수 출력\n",
    "\n",
    "# 개수 출력- nan 데이터 제오ㅣ 후 출력\n",
    "df['SW특기'].count()"
   ]
  }
 ],
 "metadata": {
  "language_info": {
   "name": "python"
  }
 },
 "nbformat": 4,
 "nbformat_minor": 5
}
