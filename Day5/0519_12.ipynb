{
 "cells": [
  {
   "cell_type": "code",
   "execution_count": 11,
   "id": "dddbcd27",
   "metadata": {},
   "outputs": [
    {
     "data": {
      "text/plain": [
       "사고(건)    182\n",
       "사망(명)      4\n",
       "부상(명)    360\n",
       "Name: 2014년4월, dtype: int64"
      ]
     },
     "execution_count": 11,
     "metadata": {},
     "output_type": "execute_result"
    }
   ],
   "source": [
    "import pandas as pd\n",
    "\n",
    "df1 = pd.read_csv(\"data/2014년졸음운전교통사고.csv\", encoding='euc-kr')\n",
    "df2 = pd.read_csv(\"data/2015년졸음운전교통사고.csv\", encoding=\"euc-kr\")\n",
    "df3 = pd.read_csv(\"data/2016년졸음운전교통사고.csv\", encoding=\"euc-kr\")\n",
    "\n",
    "df1.set_index('구분',inplace=True)\n",
    "\n",
    "df1.loc['2014년4월']"
   ]
  },
  {
   "cell_type": "code",
   "execution_count": null,
   "id": "eef0f1ba",
   "metadata": {},
   "outputs": [],
   "source": [
    "df = df.concat"
   ]
  },
  {
   "cell_type": "code",
   "execution_count": null,
   "id": "86ecebd4",
   "metadata": {},
   "outputs": [],
   "source": []
  }
 ],
 "metadata": {
  "kernelspec": {
   "display_name": "base",
   "language": "python",
   "name": "python3"
  },
  "language_info": {
   "codemirror_mode": {
    "name": "ipython",
    "version": 3
   },
   "file_extension": ".py",
   "mimetype": "text/x-python",
   "name": "python",
   "nbconvert_exporter": "python",
   "pygments_lexer": "ipython3",
   "version": "3.10.12"
  }
 },
 "nbformat": 4,
 "nbformat_minor": 5
}
