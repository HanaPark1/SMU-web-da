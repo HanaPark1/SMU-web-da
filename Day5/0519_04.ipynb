{
 "cells": [
  {
   "cell_type": "code",
   "execution_count": null,
   "id": "779f71e2",
   "metadata": {},
   "outputs": [],
   "source": [
    "### csv 파일 저장하는 방법 utf-8 : 워드패드,vscode에서 읽기 가능\n",
    "### utf-8-sig : excel파일에서도 한글지원 가능\n",
    "df.to_csv('score.csv',encoding='utf-8')\n",
    "\n",
    "### txt 파일 저장\n",
    "df.to_csv('data/score.txt',encoding='utf-8')\n",
    "df.to_csv('data/score.txt',seq = '\\t',encoding='utf-8')\n",
    "\n",
    "## excel 파일 저장, 인코딩 없음\n",
    "df.to.excel('data/score.xlsx')"
   ]
  },
  {
   "cell_type": "markdown",
   "id": "0389c221",
   "metadata": {},
   "source": [
    "파일 읽기"
   ]
  },
  {
   "cell_type": "code",
   "execution_count": null,
   "id": "8f873b67",
   "metadata": {},
   "outputs": [
    {
     "name": "stderr",
     "output_type": "stream",
     "text": [
      "/opt/homebrew/Caskroom/miniforge/base/lib/python3.10/site-packages/openpyxl/styles/stylesheet.py:226: UserWarning: Workbook contains no default style, apply openpyxl's default\n",
      "  warn(\"Workbook contains no default style, apply openpyxl's default\")\n"
     ]
    },
    {
     "data": {
      "text/html": [
       "<div>\n",
       "<style scoped>\n",
       "    .dataframe tbody tr th:only-of-type {\n",
       "        vertical-align: middle;\n",
       "    }\n",
       "\n",
       "    .dataframe tbody tr th {\n",
       "        vertical-align: top;\n",
       "    }\n",
       "\n",
       "    .dataframe thead th {\n",
       "        text-align: right;\n",
       "    }\n",
       "</style>\n",
       "<table border=\"1\" class=\"dataframe\">\n",
       "  <thead>\n",
       "    <tr style=\"text-align: right;\">\n",
       "      <th></th>\n",
       "      <th>총인구수</th>\n",
       "      <th>남자 인구수</th>\n",
       "      <th>여자 인구수</th>\n",
       "      <th>남여 비율</th>\n",
       "    </tr>\n",
       "    <tr>\n",
       "      <th>행정기관</th>\n",
       "      <th></th>\n",
       "      <th></th>\n",
       "      <th></th>\n",
       "      <th></th>\n",
       "    </tr>\n",
       "  </thead>\n",
       "  <tbody>\n",
       "    <tr>\n",
       "      <th>전국</th>\n",
       "      <td>51,217,221</td>\n",
       "      <td>25,498,324</td>\n",
       "      <td>25,718,897</td>\n",
       "      <td>0.99</td>\n",
       "    </tr>\n",
       "    <tr>\n",
       "      <th>서울특별시</th>\n",
       "      <td>9,331,828</td>\n",
       "      <td>4,505,355</td>\n",
       "      <td>4,826,473</td>\n",
       "      <td>0.93</td>\n",
       "    </tr>\n",
       "    <tr>\n",
       "      <th>부산광역시</th>\n",
       "      <td>3,266,598</td>\n",
       "      <td>1,589,912</td>\n",
       "      <td>1,676,686</td>\n",
       "      <td>0.95</td>\n",
       "    </tr>\n",
       "  </tbody>\n",
       "</table>\n",
       "</div>"
      ],
      "text/plain": [
       "               총인구수      남자 인구수      여자 인구수  남여 비율\n",
       "행정기관                                              \n",
       "전국       51,217,221  25,498,324  25,718,897   0.99\n",
       "서울특별시     9,331,828   4,505,355   4,826,473   0.93\n",
       "부산광역시     3,266,598   1,589,912   1,676,686   0.95"
      ]
     },
     "execution_count": 10,
     "metadata": {},
     "output_type": "execute_result"
    }
   ],
   "source": [
    "import pandas as pd\n",
    "\n",
    "### csv파일 읽어오기, index 지정가능 : index_col\n",
    "# df = pd.read_csv('data/score.csv',index_col='지원번호')\n",
    "\n",
    "### excel 읽어오기\n",
    "### skiprows : 상단 row 삭제\n",
    "### index_col : index 지정\n",
    "### usecols : 필요한 컬럼만 가져오기\n",
    "### nrows : 필요한 row만 가져오기\n",
    "df = pd.read_excel('data/202412_202412_주민등록인구및세대현황_연간.xlsx',skiprows=2,index_col='행정기관',\n",
    "                   usecols=\"B:C,F:H\", nrows=3)\n",
    "df"
   ]
  },
  {
   "cell_type": "code",
   "execution_count": null,
   "id": "3f1b11a6",
   "metadata": {},
   "outputs": [],
   "source": []
  },
  {
   "cell_type": "code",
   "execution_count": null,
   "id": "eadca040",
   "metadata": {},
   "outputs": [],
   "source": []
  }
 ],
 "metadata": {
  "kernelspec": {
   "display_name": "base",
   "language": "python",
   "name": "python3"
  },
  "language_info": {
   "codemirror_mode": {
    "name": "ipython",
    "version": 3
   },
   "file_extension": ".py",
   "mimetype": "text/x-python",
   "name": "python",
   "nbconvert_exporter": "python",
   "pygments_lexer": "ipython3",
   "version": "3.10.12"
  }
 },
 "nbformat": 4,
 "nbformat_minor": 5
}
