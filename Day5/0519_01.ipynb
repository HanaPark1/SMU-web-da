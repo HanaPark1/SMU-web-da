{
 "cells": [
  {
   "cell_type": "code",
   "execution_count": null,
   "id": "eda51bf8",
   "metadata": {
    "vscode": {
     "languageId": "plaintext"
    }
   },
   "outputs": [],
   "source": [
    "data = {\n",
    "    '이름':['홍길동','유관순','이순신','강감찬','김구','김유신','홍길자','홍길순'],\n",
    "    '학교':['가산고','가산고','가산고','가산고','가산고','디지털고','디지털고','디지털고'],\n",
    "    '키':[197,184,168,187,188,202,188,190],\n",
    "    '국어':[90,40,80,40,15,80,55,100],\n",
    "    '영어':[85,35,75,60,20,100,65,85],\n",
    "    '수학':[100,50,70,70,10,95,45,90],\n",
    "    '과학':[95,55,80,75,35,85,40,95],\n",
    "    '사회':[85,25,75,80,10,80,35,95],\n",
    "    'SW특기':['Python','Java','Javascript','','','C','PYTHON','C#']\n",
    "}"
   ]
  },
  {
   "cell_type": "code",
   "execution_count": null,
   "id": "55e07a50",
   "metadata": {
    "vscode": {
     "languageId": "plaintext"
    }
   },
   "outputs": [],
   "source": [
    "df.index = ['1']\n",
    "df.index.name = \"지원번호\"\n",
    "\n",
    "# 특정컬럼 인덱스 자정\n",
    "df.index\n",
    "\n",
    "# index 삭제 방법\n",
    "df.reset_index(drop=True, inplace=True)\n"
   ]
  },
  {
   "cell_type": "code",
   "execution_count": null,
   "id": "2a1e7bd9",
   "metadata": {
    "vscode": {
     "languageId": "plaintext"
    }
   },
   "outputs": [],
   "source": [
    "df.sort_index(inplace=True) #index 기준 순차정렬\n",
    "df.sort_index(ascending=False,inplace=True) #index 기준 역순정렬\n",
    "\n"
   ]
  }
 ],
 "metadata": {
  "language_info": {
   "name": "python"
  }
 },
 "nbformat": 4,
 "nbformat_minor": 5
}
