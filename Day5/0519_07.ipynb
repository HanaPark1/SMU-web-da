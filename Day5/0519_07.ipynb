{
 "cells": [
  {
   "cell_type": "code",
   "execution_count": 12,
   "id": "206c4884",
   "metadata": {},
   "outputs": [
    {
     "name": "stderr",
     "output_type": "stream",
     "text": [
      "/opt/homebrew/Caskroom/miniforge/base/lib/python3.10/site-packages/openpyxl/styles/stylesheet.py:226: UserWarning: Workbook contains no default style, apply openpyxl's default\n",
      "  warn(\"Workbook contains no default style, apply openpyxl's default\")\n"
     ]
    }
   ],
   "source": [
    "import pandas as pd\n",
    "\n",
    "w_df = pd.read_excel('data/202412_202412_연령별인구현황_연간.xlsx',skiprows=3,\n",
    "                   usecols=\"B,AE:AO\", nrows=1)"
   ]
  },
  {
   "cell_type": "code",
   "execution_count": 13,
   "id": "4f3b10d5",
   "metadata": {},
   "outputs": [
    {
     "name": "stderr",
     "output_type": "stream",
     "text": [
      "/opt/homebrew/Caskroom/miniforge/base/lib/python3.10/site-packages/openpyxl/styles/stylesheet.py:226: UserWarning: Workbook contains no default style, apply openpyxl's default\n",
      "  warn(\"Workbook contains no default style, apply openpyxl's default\")\n"
     ]
    }
   ],
   "source": [
    "m_df = pd.read_excel('data/202412_202412_연령별인구현황_연간.xlsx',skiprows=3,\n",
    "                   usecols=\"B,R:AB\", nrows=1)"
   ]
  },
  {
   "cell_type": "code",
   "execution_count": 14,
   "id": "bb593db7",
   "metadata": {},
   "outputs": [
    {
     "name": "stderr",
     "output_type": "stream",
     "text": [
      "/opt/homebrew/Caskroom/miniforge/base/lib/python3.10/site-packages/openpyxl/styles/stylesheet.py:226: UserWarning: Workbook contains no default style, apply openpyxl's default\n",
      "  warn(\"Workbook contains no default style, apply openpyxl's default\")\n"
     ]
    },
    {
     "data": {
      "text/html": [
       "<div>\n",
       "<style scoped>\n",
       "    .dataframe tbody tr th:only-of-type {\n",
       "        vertical-align: middle;\n",
       "    }\n",
       "\n",
       "    .dataframe tbody tr th {\n",
       "        vertical-align: top;\n",
       "    }\n",
       "\n",
       "    .dataframe thead th {\n",
       "        text-align: right;\n",
       "    }\n",
       "</style>\n",
       "<table border=\"1\" class=\"dataframe\">\n",
       "  <thead>\n",
       "    <tr style=\"text-align: right;\">\n",
       "      <th></th>\n",
       "      <th>행정기관</th>\n",
       "      <th>0~9세</th>\n",
       "      <th>10~19세</th>\n",
       "      <th>20~29세</th>\n",
       "      <th>30~39세</th>\n",
       "      <th>40~49세</th>\n",
       "      <th>50~59세</th>\n",
       "      <th>60~69세</th>\n",
       "      <th>70~79세</th>\n",
       "      <th>80~89세</th>\n",
       "      <th>90~99세</th>\n",
       "      <th>100세 이상</th>\n",
       "    </tr>\n",
       "  </thead>\n",
       "  <tbody>\n",
       "    <tr>\n",
       "      <th>0</th>\n",
       "      <td>전국</td>\n",
       "      <td>3,140,118</td>\n",
       "      <td>4,619,265</td>\n",
       "      <td>5,955,656</td>\n",
       "      <td>6,624,563</td>\n",
       "      <td>7,722,823</td>\n",
       "      <td>8,706,370</td>\n",
       "      <td>7,818,783</td>\n",
       "      <td>4,186,597</td>\n",
       "      <td>2,104,544</td>\n",
       "      <td>329,925</td>\n",
       "      <td>8,577</td>\n",
       "    </tr>\n",
       "  </tbody>\n",
       "</table>\n",
       "</div>"
      ],
      "text/plain": [
       "   행정기관       0~9세     10~19세     20~29세     30~39세     40~49세     50~59세  \\\n",
       "0  전국    3,140,118  4,619,265  5,955,656  6,624,563  7,722,823  8,706,370   \n",
       "\n",
       "      60~69세     70~79세     80~89세   90~99세 100세 이상  \n",
       "0  7,818,783  4,186,597  2,104,544  329,925   8,577  "
      ]
     },
     "execution_count": 14,
     "metadata": {},
     "output_type": "execute_result"
    }
   ],
   "source": [
    "df = pd.read_excel('data/202412_202412_연령별인구현황_연간.xlsx',skiprows=3,\n",
    "                   usecols=\"B,E:O\", nrows=1)\n",
    "df"
   ]
  },
  {
   "cell_type": "code",
   "execution_count": 19,
   "id": "8a56704b",
   "metadata": {},
   "outputs": [],
   "source": [
    "m_df.columns = df.columns\n",
    "w_df.columns = df.columns"
   ]
  },
  {
   "cell_type": "code",
   "execution_count": 22,
   "id": "795eb87d",
   "metadata": {},
   "outputs": [
    {
     "data": {
      "text/plain": [
       "Index(['행정기관', '0~9세', '10~19세', '20~29세', '30~39세', '40~49세', '50~59세',\n",
       "       '60~69세', '70~79세', '80~89세', '90~99세', '100세 이상'],\n",
       "      dtype='object')"
      ]
     },
     "execution_count": 22,
     "metadata": {},
     "output_type": "execute_result"
    }
   ],
   "source": [
    "df.columns"
   ]
  }
 ],
 "metadata": {
  "kernelspec": {
   "display_name": "base",
   "language": "python",
   "name": "python3"
  },
  "language_info": {
   "codemirror_mode": {
    "name": "ipython",
    "version": 3
   },
   "file_extension": ".py",
   "mimetype": "text/x-python",
   "name": "python",
   "nbconvert_exporter": "python",
   "pygments_lexer": "ipython3",
   "version": "3.10.12"
  }
 },
 "nbformat": 4,
 "nbformat_minor": 5
}
