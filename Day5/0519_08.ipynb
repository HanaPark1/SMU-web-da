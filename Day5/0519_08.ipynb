{
 "cells": [
  {
   "cell_type": "code",
   "execution_count": 8,
   "id": "26043af1",
   "metadata": {},
   "outputs": [
    {
     "name": "stderr",
     "output_type": "stream",
     "text": [
      "/opt/homebrew/Caskroom/miniforge/base/lib/python3.10/site-packages/openpyxl/styles/stylesheet.py:226: UserWarning: Workbook contains no default style, apply openpyxl's default\n",
      "  warn(\"Workbook contains no default style, apply openpyxl's default\")\n",
      "/opt/homebrew/Caskroom/miniforge/base/lib/python3.10/site-packages/openpyxl/styles/stylesheet.py:226: UserWarning: Workbook contains no default style, apply openpyxl's default\n",
      "  warn(\"Workbook contains no default style, apply openpyxl's default\")\n",
      "/opt/homebrew/Caskroom/miniforge/base/lib/python3.10/site-packages/openpyxl/styles/stylesheet.py:226: UserWarning: Workbook contains no default style, apply openpyxl's default\n",
      "  warn(\"Workbook contains no default style, apply openpyxl's default\")\n"
     ]
    },
    {
     "data": {
      "text/html": [
       "<div>\n",
       "<style scoped>\n",
       "    .dataframe tbody tr th:only-of-type {\n",
       "        vertical-align: middle;\n",
       "    }\n",
       "\n",
       "    .dataframe tbody tr th {\n",
       "        vertical-align: top;\n",
       "    }\n",
       "\n",
       "    .dataframe thead th {\n",
       "        text-align: right;\n",
       "    }\n",
       "</style>\n",
       "<table border=\"1\" class=\"dataframe\">\n",
       "  <thead>\n",
       "    <tr style=\"text-align: right;\">\n",
       "      <th></th>\n",
       "      <th>0~9세.2</th>\n",
       "      <th>10~19세.2</th>\n",
       "      <th>20~29세.2</th>\n",
       "      <th>30~39세.2</th>\n",
       "      <th>40~49세.2</th>\n",
       "      <th>50~59세.2</th>\n",
       "      <th>60~69세.2</th>\n",
       "      <th>70~79세.2</th>\n",
       "      <th>80~89세.2</th>\n",
       "      <th>90~99세.2</th>\n",
       "      <th>100세 이상.2</th>\n",
       "    </tr>\n",
       "    <tr>\n",
       "      <th>행정기관</th>\n",
       "      <th></th>\n",
       "      <th></th>\n",
       "      <th></th>\n",
       "      <th></th>\n",
       "      <th></th>\n",
       "      <th></th>\n",
       "      <th></th>\n",
       "      <th></th>\n",
       "      <th></th>\n",
       "      <th></th>\n",
       "      <th></th>\n",
       "    </tr>\n",
       "  </thead>\n",
       "  <tbody>\n",
       "    <tr>\n",
       "      <th>전국</th>\n",
       "      <td>1,531,058</td>\n",
       "      <td>2,245,507</td>\n",
       "      <td>2,855,132</td>\n",
       "      <td>3,166,585</td>\n",
       "      <td>3,796,703</td>\n",
       "      <td>4,315,099</td>\n",
       "      <td>3,968,224</td>\n",
       "      <td>2,254,795</td>\n",
       "      <td>1,326,374</td>\n",
       "      <td>252,368</td>\n",
       "      <td>7,052</td>\n",
       "    </tr>\n",
       "  </tbody>\n",
       "</table>\n",
       "</div>"
      ],
      "text/plain": [
       "         0~9세.2   10~19세.2   20~29세.2   30~39세.2   40~49세.2   50~59세.2  \\\n",
       "행정기관                                                                     \n",
       "전국    1,531,058  2,245,507  2,855,132  3,166,585  3,796,703  4,315,099   \n",
       "\n",
       "       60~69세.2   70~79세.2   80~89세.2 90~99세.2 100세 이상.2  \n",
       "행정기관                                                      \n",
       "전국    3,968,224  2,254,795  1,326,374  252,368     7,052  "
      ]
     },
     "execution_count": 8,
     "metadata": {},
     "output_type": "execute_result"
    }
   ],
   "source": [
    "import pandas as pd\n",
    "\n",
    "## 계\n",
    "df = pd.read_excel('data/202412_202412_연령별인구현황_연간.xlsx', skiprows=3, usecols='B,E:O', index_col='행정기관', nrows=1)\n",
    "df\n",
    "\n",
    "## 남자\n",
    "m_df = pd.read_excel('data/202412_202412_연령별인구현황_연간.xlsx', skiprows=3, usecols='B,R:AB', index_col='행정기관', nrows=1)\n",
    "m_df\n",
    "\n",
    "## 여자\n",
    "w_df = pd.read_excel('data/202412_202412_연령별인구현황_연간.xlsx', skiprows=3, usecols='B,AE:AO', index_col='행정기관', nrows=1)\n",
    "w_df"
   ]
  },
  {
   "cell_type": "code",
   "execution_count": null,
   "id": "7f2c2f1d",
   "metadata": {},
   "outputs": [
    {
     "data": {
      "text/plain": [
       "행정기관\n",
       "전국      3,140,118\n",
       "Name: 0~9세, dtype: object"
      ]
     },
     "execution_count": 12,
     "metadata": {},
     "output_type": "execute_result"
    }
   ],
   "source": [
    "## 컬럼명 비교\n",
    "\n",
    "df.columns # 컬럼명 '0~9세'\n",
    "m_df.columns # 컬럼명 '0.9세.1'\n",
    "w_df.columns # 컬럼명 '0.9세.2'\n",
    "\n",
    "df['0~9세']"
   ]
  },
  {
   "cell_type": "code",
   "execution_count": 14,
   "id": "2e0983b4",
   "metadata": {},
   "outputs": [
    {
     "data": {
      "text/plain": [
       "Index(['0~9세', '10~19세', '20~29세', '30~39세', '40~49세', '50~59세', '60~69세',\n",
       "       '70~79세', '80~89세', '90~99세', '100세 이상'],\n",
       "      dtype='object')"
      ]
     },
     "execution_count": 14,
     "metadata": {},
     "output_type": "execute_result"
    }
   ],
   "source": [
    "## 컬럼명 변경\n",
    "\n",
    "m_df.columns = df.columns #컬럼묭 변경\n",
    "w_df.columns = df.columns #컬럼묭 변경\n",
    "\n",
    "w_df.columns"
   ]
  },
  {
   "cell_type": "code",
   "execution_count": null,
   "id": "f1f252ec",
   "metadata": {},
   "outputs": [
    {
     "ename": "AttributeError",
     "evalue": "Can only use .str accessor with string values!",
     "output_type": "error",
     "traceback": [
      "\u001b[0;31m---------------------------------------------------------------------------\u001b[0m",
      "\u001b[0;31mAttributeError\u001b[0m                            Traceback (most recent call last)",
      "Cell \u001b[0;32mIn[22], line 3\u001b[0m\n\u001b[1;32m      1\u001b[0m \u001b[38;5;66;03m# df.describe()\u001b[39;00m\n\u001b[1;32m      2\u001b[0m \u001b[38;5;66;03m# df.info()\u001b[39;00m\n\u001b[0;32m----> 3\u001b[0m df[\u001b[38;5;124m'\u001b[39m\u001b[38;5;124m0~9세\u001b[39m\u001b[38;5;124m'\u001b[39m] \u001b[38;5;241m=\u001b[39m \u001b[43mdf\u001b[49m\u001b[43m[\u001b[49m\u001b[38;5;124;43m'\u001b[39;49m\u001b[38;5;124;43m0~9세\u001b[39;49m\u001b[38;5;124;43m'\u001b[39;49m\u001b[43m]\u001b[49m\u001b[38;5;241;43m.\u001b[39;49m\u001b[43mstr\u001b[49m\u001b[38;5;241m.\u001b[39mreplace(\u001b[38;5;124m\"\u001b[39m\u001b[38;5;124m,\u001b[39m\u001b[38;5;124m\"\u001b[39m,\u001b[38;5;124m\"\u001b[39m\u001b[38;5;124m\"\u001b[39m)\n\u001b[1;32m      4\u001b[0m df[\u001b[38;5;124m'\u001b[39m\u001b[38;5;124m0~9세\u001b[39m\u001b[38;5;124m'\u001b[39m] \u001b[38;5;241m=\u001b[39m df[\u001b[38;5;124m'\u001b[39m\u001b[38;5;124m0~9세\u001b[39m\u001b[38;5;124m'\u001b[39m]\u001b[38;5;241m.\u001b[39mastype(\u001b[38;5;28mint\u001b[39m)\n\u001b[1;32m      5\u001b[0m \u001b[38;5;66;03m# df['0~9세'] = df['0~9세'].str.replace(\",\",\"\").astype(int)\u001b[39;00m\n",
      "File \u001b[0;32m/opt/homebrew/Caskroom/miniforge/base/lib/python3.10/site-packages/pandas/core/generic.py:6204\u001b[0m, in \u001b[0;36mNDFrame.__getattr__\u001b[0;34m(self, name)\u001b[0m\n\u001b[1;32m   6197\u001b[0m \u001b[38;5;28;01mif\u001b[39;00m (\n\u001b[1;32m   6198\u001b[0m     name \u001b[38;5;129;01mnot\u001b[39;00m \u001b[38;5;129;01min\u001b[39;00m \u001b[38;5;28mself\u001b[39m\u001b[38;5;241m.\u001b[39m_internal_names_set\n\u001b[1;32m   6199\u001b[0m     \u001b[38;5;129;01mand\u001b[39;00m name \u001b[38;5;129;01mnot\u001b[39;00m \u001b[38;5;129;01min\u001b[39;00m \u001b[38;5;28mself\u001b[39m\u001b[38;5;241m.\u001b[39m_metadata\n\u001b[1;32m   6200\u001b[0m     \u001b[38;5;129;01mand\u001b[39;00m name \u001b[38;5;129;01mnot\u001b[39;00m \u001b[38;5;129;01min\u001b[39;00m \u001b[38;5;28mself\u001b[39m\u001b[38;5;241m.\u001b[39m_accessors\n\u001b[1;32m   6201\u001b[0m     \u001b[38;5;129;01mand\u001b[39;00m \u001b[38;5;28mself\u001b[39m\u001b[38;5;241m.\u001b[39m_info_axis\u001b[38;5;241m.\u001b[39m_can_hold_identifiers_and_holds_name(name)\n\u001b[1;32m   6202\u001b[0m ):\n\u001b[1;32m   6203\u001b[0m     \u001b[38;5;28;01mreturn\u001b[39;00m \u001b[38;5;28mself\u001b[39m[name]\n\u001b[0;32m-> 6204\u001b[0m \u001b[38;5;28;01mreturn\u001b[39;00m \u001b[38;5;28;43mobject\u001b[39;49m\u001b[38;5;241;43m.\u001b[39;49m\u001b[38;5;21;43m__getattribute__\u001b[39;49m\u001b[43m(\u001b[49m\u001b[38;5;28;43mself\u001b[39;49m\u001b[43m,\u001b[49m\u001b[43m \u001b[49m\u001b[43mname\u001b[49m\u001b[43m)\u001b[49m\n",
      "File \u001b[0;32m/opt/homebrew/Caskroom/miniforge/base/lib/python3.10/site-packages/pandas/core/accessor.py:224\u001b[0m, in \u001b[0;36mCachedAccessor.__get__\u001b[0;34m(self, obj, cls)\u001b[0m\n\u001b[1;32m    221\u001b[0m \u001b[38;5;28;01mif\u001b[39;00m obj \u001b[38;5;129;01mis\u001b[39;00m \u001b[38;5;28;01mNone\u001b[39;00m:\n\u001b[1;32m    222\u001b[0m     \u001b[38;5;66;03m# we're accessing the attribute of the class, i.e., Dataset.geo\u001b[39;00m\n\u001b[1;32m    223\u001b[0m     \u001b[38;5;28;01mreturn\u001b[39;00m \u001b[38;5;28mself\u001b[39m\u001b[38;5;241m.\u001b[39m_accessor\n\u001b[0;32m--> 224\u001b[0m accessor_obj \u001b[38;5;241m=\u001b[39m \u001b[38;5;28;43mself\u001b[39;49m\u001b[38;5;241;43m.\u001b[39;49m\u001b[43m_accessor\u001b[49m\u001b[43m(\u001b[49m\u001b[43mobj\u001b[49m\u001b[43m)\u001b[49m\n\u001b[1;32m    225\u001b[0m \u001b[38;5;66;03m# Replace the property with the accessor object. Inspired by:\u001b[39;00m\n\u001b[1;32m    226\u001b[0m \u001b[38;5;66;03m# https://www.pydanny.com/cached-property.html\u001b[39;00m\n\u001b[1;32m    227\u001b[0m \u001b[38;5;66;03m# We need to use object.__setattr__ because we overwrite __setattr__ on\u001b[39;00m\n\u001b[1;32m    228\u001b[0m \u001b[38;5;66;03m# NDFrame\u001b[39;00m\n\u001b[1;32m    229\u001b[0m \u001b[38;5;28mobject\u001b[39m\u001b[38;5;241m.\u001b[39m\u001b[38;5;21m__setattr__\u001b[39m(obj, \u001b[38;5;28mself\u001b[39m\u001b[38;5;241m.\u001b[39m_name, accessor_obj)\n",
      "File \u001b[0;32m/opt/homebrew/Caskroom/miniforge/base/lib/python3.10/site-packages/pandas/core/strings/accessor.py:190\u001b[0m, in \u001b[0;36mStringMethods.__init__\u001b[0;34m(self, data)\u001b[0m\n\u001b[1;32m    187\u001b[0m \u001b[38;5;28;01mdef\u001b[39;00m \u001b[38;5;21m__init__\u001b[39m(\u001b[38;5;28mself\u001b[39m, data) \u001b[38;5;241m-\u001b[39m\u001b[38;5;241m>\u001b[39m \u001b[38;5;28;01mNone\u001b[39;00m:\n\u001b[1;32m    188\u001b[0m     \u001b[38;5;28;01mfrom\u001b[39;00m \u001b[38;5;21;01mpandas\u001b[39;00m\u001b[38;5;21;01m.\u001b[39;00m\u001b[38;5;21;01mcore\u001b[39;00m\u001b[38;5;21;01m.\u001b[39;00m\u001b[38;5;21;01marrays\u001b[39;00m\u001b[38;5;21;01m.\u001b[39;00m\u001b[38;5;21;01mstring_\u001b[39;00m \u001b[38;5;28;01mimport\u001b[39;00m StringDtype\n\u001b[0;32m--> 190\u001b[0m     \u001b[38;5;28mself\u001b[39m\u001b[38;5;241m.\u001b[39m_inferred_dtype \u001b[38;5;241m=\u001b[39m \u001b[38;5;28;43mself\u001b[39;49m\u001b[38;5;241;43m.\u001b[39;49m\u001b[43m_validate\u001b[49m\u001b[43m(\u001b[49m\u001b[43mdata\u001b[49m\u001b[43m)\u001b[49m\n\u001b[1;32m    191\u001b[0m     \u001b[38;5;28mself\u001b[39m\u001b[38;5;241m.\u001b[39m_is_categorical \u001b[38;5;241m=\u001b[39m \u001b[38;5;28misinstance\u001b[39m(data\u001b[38;5;241m.\u001b[39mdtype, CategoricalDtype)\n\u001b[1;32m    192\u001b[0m     \u001b[38;5;28mself\u001b[39m\u001b[38;5;241m.\u001b[39m_is_string \u001b[38;5;241m=\u001b[39m \u001b[38;5;28misinstance\u001b[39m(data\u001b[38;5;241m.\u001b[39mdtype, StringDtype)\n",
      "File \u001b[0;32m/opt/homebrew/Caskroom/miniforge/base/lib/python3.10/site-packages/pandas/core/strings/accessor.py:244\u001b[0m, in \u001b[0;36mStringMethods._validate\u001b[0;34m(data)\u001b[0m\n\u001b[1;32m    241\u001b[0m inferred_dtype \u001b[38;5;241m=\u001b[39m lib\u001b[38;5;241m.\u001b[39minfer_dtype(values, skipna\u001b[38;5;241m=\u001b[39m\u001b[38;5;28;01mTrue\u001b[39;00m)\n\u001b[1;32m    243\u001b[0m \u001b[38;5;28;01mif\u001b[39;00m inferred_dtype \u001b[38;5;129;01mnot\u001b[39;00m \u001b[38;5;129;01min\u001b[39;00m allowed_types:\n\u001b[0;32m--> 244\u001b[0m     \u001b[38;5;28;01mraise\u001b[39;00m \u001b[38;5;167;01mAttributeError\u001b[39;00m(\u001b[38;5;124m\"\u001b[39m\u001b[38;5;124mCan only use .str accessor with string values!\u001b[39m\u001b[38;5;124m\"\u001b[39m)\n\u001b[1;32m    245\u001b[0m \u001b[38;5;28;01mreturn\u001b[39;00m inferred_dtype\n",
      "\u001b[0;31mAttributeError\u001b[0m: Can only use .str accessor with string values!"
     ]
    }
   ],
   "source": [
    "# df.describe()\n",
    "# df.info()\n",
    "# df['0~9세'] = df['0~9세'].str.replace(\",\",\"\")\n",
    "# df['0~9세'] = df['0~9세'].astype(int)\n",
    "df['0~9세'] = df['0~9세'].str.replace(\",\",\"\").astype(int)\n",
    "df.info()"
   ]
  },
  {
   "cell_type": "code",
   "execution_count": 23,
   "id": "62c27af9",
   "metadata": {},
   "outputs": [
    {
     "data": {
      "text/plain": [
       "행정기관\n",
       "전국      4619265\n",
       "Name: 10~19세, dtype: int64"
      ]
     },
     "execution_count": 23,
     "metadata": {},
     "output_type": "execute_result"
    }
   ],
   "source": [
    "#replace: ,를 삭제(천단위 삭제), 타입변경 : astype()\n",
    "\n",
    "#'10~19세' 천단위 삭제, int 변경\n",
    "\n",
    "df['10~19세'] = df['10~19세'].str.replace(\",\",\"\").astype(int)\n",
    "df['10~19세']"
   ]
  },
  {
   "cell_type": "code",
   "execution_count": 27,
   "id": "1e354238",
   "metadata": {},
   "outputs": [
    {
     "data": {
      "text/html": [
       "<div>\n",
       "<style scoped>\n",
       "    .dataframe tbody tr th:only-of-type {\n",
       "        vertical-align: middle;\n",
       "    }\n",
       "\n",
       "    .dataframe tbody tr th {\n",
       "        vertical-align: top;\n",
       "    }\n",
       "\n",
       "    .dataframe thead th {\n",
       "        text-align: right;\n",
       "    }\n",
       "</style>\n",
       "<table border=\"1\" class=\"dataframe\">\n",
       "  <thead>\n",
       "    <tr style=\"text-align: right;\">\n",
       "      <th>행정기관</th>\n",
       "      <th>전국</th>\n",
       "    </tr>\n",
       "  </thead>\n",
       "  <tbody>\n",
       "    <tr>\n",
       "      <th>0~9세</th>\n",
       "      <td>1,609,060</td>\n",
       "    </tr>\n",
       "    <tr>\n",
       "      <th>10~19세</th>\n",
       "      <td>2,373,758</td>\n",
       "    </tr>\n",
       "    <tr>\n",
       "      <th>20~29세</th>\n",
       "      <td>3,100,524</td>\n",
       "    </tr>\n",
       "    <tr>\n",
       "      <th>30~39세</th>\n",
       "      <td>3,457,978</td>\n",
       "    </tr>\n",
       "    <tr>\n",
       "      <th>40~49세</th>\n",
       "      <td>3,926,120</td>\n",
       "    </tr>\n",
       "    <tr>\n",
       "      <th>50~59세</th>\n",
       "      <td>4,391,271</td>\n",
       "    </tr>\n",
       "    <tr>\n",
       "      <th>60~69세</th>\n",
       "      <td>3,850,559</td>\n",
       "    </tr>\n",
       "    <tr>\n",
       "      <th>70~79세</th>\n",
       "      <td>1,931,802</td>\n",
       "    </tr>\n",
       "    <tr>\n",
       "      <th>80~89세</th>\n",
       "      <td>778,170</td>\n",
       "    </tr>\n",
       "    <tr>\n",
       "      <th>90~99세</th>\n",
       "      <td>77,557</td>\n",
       "    </tr>\n",
       "    <tr>\n",
       "      <th>100세 이상</th>\n",
       "      <td>1,525</td>\n",
       "    </tr>\n",
       "  </tbody>\n",
       "</table>\n",
       "</div>"
      ],
      "text/plain": [
       "행정기관          전국  \n",
       "0~9세     1,609,060\n",
       "10~19세   2,373,758\n",
       "20~29세   3,100,524\n",
       "30~39세   3,457,978\n",
       "40~49세   3,926,120\n",
       "50~59세   4,391,271\n",
       "60~69세   3,850,559\n",
       "70~79세   1,931,802\n",
       "80~89세     778,170\n",
       "90~99세      77,557\n",
       "100세 이상      1,525"
      ]
     },
     "execution_count": 27,
     "metadata": {},
     "output_type": "execute_result"
    }
   ],
   "source": [
    "# m_df[:]\n",
    "m_df = m_df.T\n",
    "m_df"
   ]
  },
  {
   "cell_type": "code",
   "execution_count": 38,
   "id": "47502a5f",
   "metadata": {},
   "outputs": [
    {
     "data": {
      "text/plain": [
       "Index(['전국'], dtype='object', name='행정기관')"
      ]
     },
     "execution_count": 38,
     "metadata": {},
     "output_type": "execute_result"
    }
   ],
   "source": [
    "# 축 변경됨\n",
    "## 컬럼별로는 가능 \n",
    "# m_df['전국  '].str.replace(\",\",\"\")\n",
    "\n",
    "m_df.rename(columns={\"전국  \":\"전국\"},inplace=True)\n",
    "m_df.columns"
   ]
  }
 ],
 "metadata": {
  "kernelspec": {
   "display_name": "base",
   "language": "python",
   "name": "python3"
  },
  "language_info": {
   "codemirror_mode": {
    "name": "ipython",
    "version": 3
   },
   "file_extension": ".py",
   "mimetype": "text/x-python",
   "name": "python",
   "nbconvert_exporter": "python",
   "pygments_lexer": "ipython3",
   "version": "3.10.12"
  }
 },
 "nbformat": 4,
 "nbformat_minor": 5
}
